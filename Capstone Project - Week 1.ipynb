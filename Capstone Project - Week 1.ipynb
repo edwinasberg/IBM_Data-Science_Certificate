{
 "cells": [
  {
   "cell_type": "markdown",
   "metadata": {},
   "source": [
    "### Capstone Project - The Battle of Neighborhoods (Week 1)"
   ]
  },
  {
   "attachments": {},
   "cell_type": "markdown",
   "metadata": {},
   "source": [
    "#### Intro:\n",
    "In metropolitan areas, one of the main means of transportation is the metro. In London, this is no different - besides the fact the locals rather call it 'Underground'.\n",
    "As the streets are packed with cars, people tend to prefer to live within a walking distance from metro stations. \n",
    "In order to provide more information for people seeking for new homes in London, this work attempts to provide more information about the areas around metro stations in the city, more specifically about leisure options.\n",
    "\n",
    "#### Problem: \n",
    "Group metro stations of London according to the leisure options near them.\n",
    "\n",
    "#### Data sources:\n",
    "The *London metro location* will be sourced from the table at https://wiki.openstreetmap.org/wiki/List_of_London_Underground_stations#Tube_Stations_List , which contains geolocation info (lat and long) of all stations in the city.\n",
    "\n",
    "*Leisure option data* will be retrieved using Foursquare API, which provides geo information and a short description about locations.\n"
   ]
  }
 ],
 "metadata": {
  "kernelspec": {
   "display_name": "Python 3",
   "language": "python",
   "name": "python3"
  },
  "language_info": {
   "codemirror_mode": {
    "name": "ipython",
    "version": 3
   },
   "file_extension": ".py",
   "mimetype": "text/x-python",
   "name": "python",
   "nbconvert_exporter": "python",
   "pygments_lexer": "ipython3",
   "version": "3.7.1"
  }
 },
 "nbformat": 4,
 "nbformat_minor": 2
}
